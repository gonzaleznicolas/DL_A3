{
 "cells": [
  {
   "cell_type": "markdown",
   "metadata": {
    "collapsed": true,
    "id": "dfJtyp5Kefgy",
    "jupyter": {
     "outputs_hidden": true,
     "source_hidden": true
    }
   },
   "source": [
    "\n",
    "*Machine Translation Jupyter Notebook.  (c) 2021 Georgia Tech*\n",
    "\n",
    "*Copyright 2021, Georgia Institute of Technology (Georgia Tech) <br>Atlanta, Georgia 30332<br>All Rights Reserved*\n",
    "\n",
    "*Georgia Tech asserts copyright ownership of this template and all derivative works, including solutions to the projects assigned in this course. Students and other users of this template code are advised not to share it with others or to make it available on publicly viewable websites including repositories such as Github, Bitbucket, and Gitlab.  This copyright statement should not be removed or edited.*\n",
    "\n",
    "*Sharing solutions with current or future students of CS 7643 Deep Learning is prohibited and subject to being investigated as a GT honor code violation.*\n",
    "\n",
    "*DO NOT EDIT ANYTHING ABOVE THIS LINE*\n",
    "\n",
    "# Machine Translation with Seq2Seq and Transformers\n",
    "In this exercise you will implement a [Sequence to Sequence(Seq2Seq)](https://arxiv.org/abs/1703.03906) and a [Transformer](https://arxiv.org/pdf/1706.03762.pdf) model and use them to perform machine translation.\n",
    "\n",
    "**A quick note: if you receive the following TypeError \"super(type, obj): obj must be an instance or subtype of type\", try re-importing that part or restarting your kernel and re-running all cells.** Once you have finished making changes to the model constuctor, you can avoid this issue by commenting out all of the model instantiations after the first (e.g. lines starting with \"model = TransformerTranslator(*args, **kwargs)\")."
   ]
  },
  {
   "cell_type": "markdown",
   "metadata": {
    "id": "tmSlhfxwefg9",
    "jupyter": {
     "source_hidden": true
    }
   },
   "source": [
    "# ** 1: Introduction**\n",
    "\n",
    "## Multi30K: Multilingual English-German Image Descriptions\n",
    "\n",
    "[Multi30K](https://github.com/multi30k/dataset) is a dataset for machine translation tasks. It is a multilingual corpus containing English sentences and their German translation. In total it contains 31014 sentences(29000 for training, 1014 for validation, and 1000 for testing).\n",
    "As one example:\n",
    "\n",
    "En: `Two young, White males are outside near many bushes.`\n",
    "\n",
    "De: `Zwei junge weiße Männer sind im Freien in der Nähe vieler Büsche.`\n",
    "\n",
    "You can read more info about the dataset [here](https://arxiv.org/abs/1605.00459). The following parts of this assignment will be based on this dataset.\n",
    "\n",
    "**Notice: For the following assignment, we strongly recommend you to work in a virtual python environment. We recommend Anaconda, a powerful environment control tool. You can download it [here](https://www.anaconda.com/products/individual)**."
   ]
  },
  {
   "cell_type": "markdown",
   "metadata": {
    "id": "O66UKOZnefg_",
    "jp-MarkdownHeadingCollapsed": true,
    "jupyter": {
     "source_hidden": true
    }
   },
   "source": [
    "## 1.1: Prerequisites\n",
    "Before you start this assignment, you need to have all required packages installed either on the terminal you are using, or in the virtual environment. Please make sure you have the following package installed:\n",
    "\n",
    "`Torch Tqdm, Numpy`\n",
    "\n",
    "You can first check using either `pip freeze` in terminal or `conda list` in conda environment. Then run the following code block to make sure they can be imported."
   ]
  },
  {
   "cell_type": "code",
   "execution_count": 22,
   "metadata": {
    "id": "e9wH5bYVefhA"
   },
   "outputs": [],
   "source": [
    "# Just run this block. Please do not modify the following code.\n",
    "import math\n",
    "import time\n",
    "import io\n",
    "import numpy as np\n",
    "import csv\n",
    "from IPython.display import Image\n",
    "\n",
    "# Pytorch package\n",
    "import torch\n",
    "import torch.nn as nn\n",
    "import torch.optim as optim\n",
    "\n",
    "from torch.utils.data import DataLoader\n",
    "from collections import Counter\n",
    "from torch.nn.utils.rnn import pad_sequence\n",
    "\n",
    "# Tqdm progress bar\n",
    "from tqdm import tqdm_notebook, tqdm\n",
    "\n",
    "# Code provide to you for training and evaluation\n",
    "from utils import train, evaluate, set_seed_nb, unit_test_values, deterministic_init, plot_curves\n",
    "\n",
    "# for auto-reloading external modules\n",
    "# see http://stackoverflow.com/questions/1907993/autoreload-of-modules-in-ipython\n",
    "#%load_ext autoreload\n",
    "#%autoreload 2"
   ]
  },
  {
   "cell_type": "markdown",
   "metadata": {
    "id": "FDmu06h_efhI"
   },
   "source": [
    "## **1.2: Preprocess Data**\n",
    "You can now prepare the Just run the following code blocks. Read the comment and try to understand what they are for."
   ]
  },
  {
   "cell_type": "markdown",
   "metadata": {
    "id": "CslQ00wNefhE"
   },
   "source": [
    "Now lets check your GPU availability and load some sanity checkers. By default you should be using your gpu for this assignment if you have one available."
   ]
  },
  {
   "cell_type": "code",
   "execution_count": 4,
   "metadata": {
    "id": "tHOKA0U5efhF"
   },
   "outputs": [
    {
     "name": "stdout",
     "output_type": "stream",
     "text": [
      "You are using device: cuda\n"
     ]
    }
   ],
   "source": [
    "# Check device availability\n",
    "device = torch.device('cuda' if torch.cuda.is_available() else 'cpu')\n",
    "print(\"You are using device: %s\" % device)"
   ]
  },
  {
   "cell_type": "code",
   "execution_count": 3,
   "metadata": {},
   "outputs": [
    {
     "name": "stderr",
     "output_type": "stream",
     "text": [
      "'cat' is not recognized as an internal or external command,\n",
      "operable program or batch file.\n"
     ]
    }
   ],
   "source": [
    "!cat /proc/cpuinfo | grep 'model name'"
   ]
  },
  {
   "cell_type": "code",
   "execution_count": 5,
   "metadata": {},
   "outputs": [],
   "source": [
    "# load checkers\n",
    "d1 = torch.load('./data/d1.pt')\n",
    "d2 = torch.load('./data/d2.pt')\n",
    "d3 = torch.load('./data/d3.pt')\n",
    "d4 = torch.load('./data/d4.pt')"
   ]
  },
  {
   "cell_type": "code",
   "execution_count": 13,
   "metadata": {
    "id": "W118GP-y_9D1",
    "jupyter": {
     "source_hidden": true
    }
   },
   "outputs": [],
   "source": [
    "import requests\n",
    "import gzip\n",
    "import os\n",
    "from typing import List, Tuple\n",
    "\n",
    "# Constants\n",
    "MAX_LEN = 20\n",
    "url_base = 'https://raw.githubusercontent.com/multi30k/dataset/master/data/task1/raw/'\n",
    "train_urls = ('train.de.gz', 'train.en.gz')\n",
    "val_urls = ('val.de.gz', 'val.en.gz')\n",
    "test_urls = ('test_2016_flickr.de.gz', 'test_2016_flickr.en.gz')\n",
    "\n",
    "def download_file(url: str, dest_folder: str) -> str:\n",
    "    if not os.path.exists(dest_folder):\n",
    "        os.makedirs(dest_folder)\n",
    "\n",
    "    filename = os.path.join(dest_folder, url.split('/')[-1])\n",
    "\n",
    "    # Download the file\n",
    "    response = requests.get(url)\n",
    "    if response.status_code == 200:\n",
    "        with open(filename, 'wb') as f:\n",
    "            f.write(response.content)\n",
    "    else:\n",
    "        raise Exception(f\"Failed to download {url}\")\n",
    "\n",
    "    return filename\n",
    "\n",
    "def extract_gzip(filepath: str) -> str:\n",
    "    output_filepath = filepath[:-3]  # Remove .gz extension\n",
    "    with gzip.open(filepath, 'rb') as f_in:\n",
    "        with open(output_filepath, 'wb') as f_out:\n",
    "            f_out.write(f_in.read())\n",
    "    return output_filepath\n",
    "\n",
    "# Download and extract files\n",
    "def download_and_extract(urls: Tuple[str]) -> List[str]:\n",
    "    filepaths = []\n",
    "    for url in urls:\n",
    "        filepath = download_file(url_base + url, 'data')\n",
    "        extracted_filepath = extract_gzip(filepath)\n",
    "        filepaths.append(extracted_filepath)\n",
    "    return filepaths\n",
    "\n",
    "# train_filepaths = download_and_extract(train_urls)\n",
    "# val_filepaths = download_and_extract(val_urls)\n",
    "# test_filepaths = download_and_extract(test_urls)"
   ]
  },
  {
   "cell_type": "code",
   "execution_count": 14,
   "metadata": {},
   "outputs": [],
   "source": [
    "train_filepaths = ['data/train.de', 'data/train.en']\n",
    "val_filepaths = ['data/val.de', 'data/val.en']\n",
    "test_filepaths = ['data/test_2016_flickr.de', 'data/test_2016_flickr.en']"
   ]
  },
  {
   "cell_type": "code",
   "execution_count": 15,
   "metadata": {
    "collapsed": true,
    "id": "uUoqCK_3AQ1X",
    "jupyter": {
     "outputs_hidden": true,
     "source_hidden": true
    }
   },
   "outputs": [
    {
     "name": "stdout",
     "output_type": "stream",
     "text": [
      "['data/train.de', 'data/train.en']\n",
      "['data/val.de', 'data/val.en']\n",
      "['data/test_2016_flickr.de', 'data/test_2016_flickr.en']\n"
     ]
    }
   ],
   "source": [
    "print (train_filepaths)\n",
    "print (val_filepaths)\n",
    "print (test_filepaths)"
   ]
  },
  {
   "cell_type": "code",
   "execution_count": 16,
   "metadata": {
    "id": "Gsq6EWLdA6bp"
   },
   "outputs": [
    {
     "name": "stdout",
     "output_type": "stream",
     "text": [
      "German Vocabulary Size: 7860\n",
      "English Vocabulary Size: 5883\n"
     ]
    }
   ],
   "source": [
    "import io\n",
    "import re\n",
    "from typing import List\n",
    "\n",
    "class Vocabulary:\n",
    "    def __init__(self, min_freq: int = 2, specials: List[str] = None):\n",
    "        if specials is None:\n",
    "            specials = ['<unk>', '<pad>', '<sos>', '<eos>']\n",
    "        self.stoi = {token: idx for idx, token in enumerate(specials)}\n",
    "        self.itos = {idx: token for idx, token in enumerate(specials)}\n",
    "        self.min_freq = min_freq\n",
    "\n",
    "    def build_from_counter(self, counter: Counter):\n",
    "        idx = len(self.stoi)\n",
    "        for token, count in counter.items():\n",
    "            if count >= self.min_freq and token not in self.stoi:\n",
    "                self.stoi[token] = idx\n",
    "                self.itos[idx] = token\n",
    "                idx += 1\n",
    "\n",
    "    def __len__(self):\n",
    "        return len(self.stoi)\n",
    "\n",
    "    def __getitem__(self, token: str) -> int:\n",
    "        return self.stoi.get(token, self.stoi['<unk>'])\n",
    "\n",
    "    def set_default_index(self, index: int):\n",
    "        self.default_index = index\n",
    "\n",
    "    def __call__(self, token: str) -> int:\n",
    "        return self.stoi.get(token, self.default_index)\n",
    "\n",
    "    def get_itos(self) -> dict:\n",
    "        \"\"\"Return the index-to-string mapping.\"\"\"\n",
    "        return self.itos\n",
    "\n",
    "\n",
    "def simple_tokenizer(text: str) -> List[str]:\n",
    "    # Use regex to split on whitespace and remove punctuation\n",
    "    tokens = re.findall(r'\\b\\w+\\b', text)\n",
    "    return tokens\n",
    "\n",
    "\n",
    "\n",
    "def build_vocab(filepath: str, tokenizer, max_vocab_size: int = 1000000) -> Vocabulary:\n",
    "    counter = Counter()\n",
    "\n",
    "    # Print a few lines from the file for debugging\n",
    "    with io.open(filepath, encoding=\"utf8\") as f:\n",
    "        for i, string_ in enumerate(f):\n",
    "            tokens = tokenizer(string_.lower())\n",
    "            counter.update(tokens)\n",
    "\n",
    "\n",
    "    vocab = Vocabulary(min_freq=2)  # Set min_freq to 2\n",
    "    vocab.build_from_counter(counter)\n",
    "\n",
    "    vocab.set_default_index(vocab['<unk>'])\n",
    "    return vocab\n",
    "\n",
    "# Example usage with the custom tokenizer\n",
    "\n",
    "de_vocab = build_vocab(train_filepaths[0], simple_tokenizer)\n",
    "en_vocab = build_vocab(train_filepaths[1], simple_tokenizer)\n",
    "\n",
    "# Print vocabulary sizes\n",
    "print(f\"German Vocabulary Size: {len(de_vocab)}\")\n",
    "print(f\"English Vocabulary Size: {len(en_vocab)}\")"
   ]
  },
  {
   "cell_type": "code",
   "execution_count": 17,
   "metadata": {
    "id": "IzcjY1zYfL1E"
   },
   "outputs": [],
   "source": [
    "import io\n",
    "import torch\n",
    "from typing import List, Tuple\n",
    "\n",
    "def data_process(filepaths: List[str]) -> List[Tuple[torch.Tensor, torch.Tensor]]:\n",
    "    raw_de_iter = iter(io.open(filepaths[0], encoding=\"utf8\"))\n",
    "    raw_en_iter = iter(io.open(filepaths[1], encoding=\"utf8\"))\n",
    "    data = []\n",
    "\n",
    "    for (raw_de, raw_en) in zip(raw_de_iter, raw_en_iter):\n",
    "        raw_de_l = raw_de.lower()  # Turn German sentences to lower case\n",
    "        raw_en_l = raw_en.lower()  # Turn English sentences to lower case\n",
    "\n",
    "        # Tokenize using the simple tokenizer\n",
    "        de_tokens = simple_tokenizer(raw_de_l)\n",
    "        en_tokens = simple_tokenizer(raw_en_l)\n",
    "\n",
    "        # Convert tokens to tensor using the vocabulary\n",
    "        de_tensor = torch.tensor([de_vocab[token] for token in de_tokens], dtype=torch.long)\n",
    "        en_tensor = torch.tensor([en_vocab[token] for token in en_tokens], dtype=torch.long)\n",
    "\n",
    "        # Check length constraints\n",
    "        if len(de_tensor) <= MAX_LEN - 2 and len(en_tensor) <= MAX_LEN - 2:\n",
    "            data.append((de_tensor, en_tensor))\n",
    "\n",
    "    return data"
   ]
  },
  {
   "cell_type": "code",
   "execution_count": 12,
   "metadata": {
    "id": "SH0hV4WzefhM"
   },
   "outputs": [],
   "source": [
    "train_data = data_process(train_filepaths)\n",
    "val_data = data_process(val_filepaths)\n",
    "test_data = data_process(test_filepaths)"
   ]
  },
  {
   "cell_type": "code",
   "execution_count": 18,
   "metadata": {
    "id": "KCMNnBQDefhM"
   },
   "outputs": [],
   "source": [
    "BATCH_SIZE = 128\n",
    "PAD_IDX = de_vocab['<pad>']\n",
    "SOS_IDX = de_vocab['<sos>']\n",
    "EOS_IDX = de_vocab['<eos>']"
   ]
  },
  {
   "cell_type": "code",
   "execution_count": 19,
   "metadata": {
    "id": "ew_LjPRuefhO"
   },
   "outputs": [],
   "source": [
    "def generate_batch(data_batch):\n",
    "\n",
    "    de_batch, en_batch = [], []\n",
    "    for (de_item, en_item) in data_batch:\n",
    "          en_batch.append(torch.cat([torch.tensor([SOS_IDX]), en_item, torch.tensor([EOS_IDX])], dim=0))\n",
    "          de_batch.append(torch.cat([torch.tensor([SOS_IDX]), de_item, torch.tensor([EOS_IDX])], dim=0))\n",
    "    en_batch = pad_sequence(en_batch, padding_value=PAD_IDX)\n",
    "    de_batch = pad_sequence(de_batch, padding_value=PAD_IDX)\n",
    "    fix=torch.ones(MAX_LEN,en_batch.shape[1])\n",
    "    two= pad_sequence([de_batch,en_batch, fix], padding_value=PAD_IDX)\n",
    "    de_batch=two[:,0,]\n",
    "    en_batch=two[:,1,]\n",
    "    return de_batch, en_batch"
   ]
  },
  {
   "cell_type": "code",
   "execution_count": 20,
   "metadata": {
    "id": "EyYhQwPvefhO"
   },
   "outputs": [],
   "source": [
    "train_loader = DataLoader(train_data, batch_size=BATCH_SIZE,\n",
    "                        shuffle=False, collate_fn=generate_batch)\n",
    "valid_loader = DataLoader(val_data, batch_size=BATCH_SIZE,\n",
    "                        shuffle=False, collate_fn=generate_batch)\n",
    "test_loader = DataLoader(test_data, batch_size=BATCH_SIZE,\n",
    "                       shuffle=False, collate_fn=generate_batch)"
   ]
  },
  {
   "cell_type": "markdown",
   "metadata": {
    "id": "l6yEbmAxefhR"
   },
   "source": [
    "# **2: Implement LSTM**\n",
    "In this section, you will need to implement a LSTM unit using PyTorch nn.Parameter. This is designed to help you to understand how they work behind the scene. The code you will be working with is in *LSTM.py* under *naive* folder. Please refer to instructions among this notebook and those files."
   ]
  },
  {
   "cell_type": "markdown",
   "metadata": {
    "id": "zZwBWMZzefhU"
   },
   "source": [
    "## **2.1: Implement an LSTM Unit**\n",
    "In this section you will be using PyTorch nn.Parameter and activations to implement an LSTM unit. You can simply translate the following equations using nn.Parameter and PyTorch activation functions to build an LSTM from scratch:\n",
    "\\begin{array}{ll} \\\\\n",
    "    i_t = \\sigma(x_t.W_{ii}  + b_{ii} +  h_{t-1}.W_{hi} + b_{hi}) \\\\\n",
    "    f_t = \\sigma(x_t.W_{if} + b_{if} +  h_{t-1}.W_{hf} + b_{hf}) \\\\\n",
    "    g_t = \\tanh(x_t.W_{ig} + b_{ig} +  h_{t-1}.W_{hg} + b_{hg}) \\\\\n",
    "    o_t = \\sigma( x_t.W_{io} + b_{io} +  h_{t-1}.W_{ho} + b_{ho}) \\\\\n",
    "    c_t = f_t \\odot c_{t-1} + i_t \\odot g_t \\\\\n",
    "    h_t = o_t \\odot \\tanh(c_t) \\\\\n",
    "\\end{array}\n",
    "\n",
    "Here's a great visualization of the above equation from [Colah's blog](https://colah.github.io/posts/2015-08-Understanding-LSTMs/) to help you understand LSTM unit. You can also read more about it from that blog."
   ]
  },
  {
   "cell_type": "code",
   "execution_count": 23,
   "metadata": {
    "id": "KLOVVivIax12"
   },
   "outputs": [],
   "source": [
    "from IPython.display import Image\n",
    "import numpy as np\n",
    "\n",
    "# Tqdm progress bar\n",
    "from tqdm import tqdm_notebook, tqdm\n",
    "\n",
    "# Code provide to you for training and evaluation\n",
    "from utils import train, evaluate, set_seed_nb, unit_test_values, deterministic_init, plot_curves"
   ]
  },
  {
   "cell_type": "code",
   "execution_count": 24,
   "metadata": {
    "id": "e9UXDqSnefhU"
   },
   "outputs": [
    {
     "data": {
      "image/png": "[encoded data removed]",
      "text/plain": [
       "<IPython.core.display.Image object>"
      ]
     },
     "execution_count": 24,
     "metadata": {
      "image/png": {
       "height": 335,
       "width": 431
      }
     },
     "output_type": "execute_result"
    }
   ],
   "source": [
    "Image (filename=\"imgs/lstm.png\", retina=True)"
   ]
  },
  {
   "cell_type": "markdown",
   "metadata": {
    "id": "OlBfQwuQefhT"
   },
   "source": [
    "Run the following block to check your implementation"
   ]
  },
  {
   "cell_type": "markdown",
   "metadata": {
    "id": "mKvbp1hxefhV"
   },
   "source": [
    "If you want to see nn.Parameter in example, check out this [tutorial](https://pytorch.org/tutorials/beginner/nn_tutorial.html) from PyTorch. Run the following block to check your implementation.\n",
    "\n",
    "Note that in this case we are implementing a full loop with LSTM, iterating over each time step. The test cases reflect this as there are multiple sequences."
   ]
  },
  {
   "cell_type": "code",
   "execution_count": 38,
   "metadata": {
    "id": "OAv7qLRuefhV"
   },
   "outputs": [
    {
     "name": "stdout",
     "output_type": "stream",
     "text": [
      "Close to h_t:  True\n",
      "Close to c_t;  True\n"
     ]
    }
   ],
   "source": [
    "from models.naive.LSTM import LSTM\n",
    "\n",
    "set_seed_nb()\n",
    "'''\n",
    "x1=\n",
    "array([[-1., -1.],\n",
    "       [ 1.,  1.],\n",
    "       [ 3.,  3.]])\n",
    "\n",
    "x2=\n",
    "array([[-1.,  4.],\n",
    "       [-1.,  4.],\n",
    "       [-1.,  4.]])\n",
    "'''\n",
    "x1,x2 = np.mgrid[-1:3:3j, -1:4:2j]\n",
    "'''\n",
    "h1=\n",
    "array([[-2., -2., -2., -2.],\n",
    "       [ 0.,  0.,  0.,  0.],\n",
    "       [ 2.,  2.,  2.,  2.]])\n",
    "\n",
    "h2=\n",
    "array([[1.        , 1.66666667, 2.33333333, 3.        ],\n",
    "       [1.        , 1.66666667, 2.33333333, 3.        ],\n",
    "       [1.        , 1.66666667, 2.33333333, 3.        ]])\n",
    "'''\n",
    "h1,h2 = np.mgrid[-2:2:3j, 1:3:4j]\n",
    "batch = 4\n",
    "\n",
    "# torch.Size([4, 3, 2])\n",
    "# (batch size, sequence length, input_size)\n",
    "x = torch.FloatTensor(np.linspace(x1,x2,batch))\n",
    "\n",
    "# torch.Size([4, 3, 4])\n",
    "# (batch size, sequence length, hidden_size)\n",
    "h = torch.FloatTensor(np.linspace(h1,h2,batch))\n",
    "\n",
    "expected_ht, expected_ct = unit_test_values('lstm')\n",
    "\n",
    "#              2             4\n",
    "lstm = LSTM(x.shape[-1], h.shape[-1])\n",
    "deterministic_init(lstm)\n",
    "\n",
    "# (h length 4, batch_size 4)\n",
    "# (c length 4, batch_size 4)\n",
    "h_t, c_t = lstm.forward(x)\n",
    "\n",
    "if h_t is not None:\n",
    "    print('Close to h_t: ', expected_ht.allclose(h_t, atol=1e-3))\n",
    "    print('Close to c_t; ', expected_ct.allclose(c_t, atol=1e-3))\n",
    "else:\n",
    "    print(\"NOT IMPLEMENTED\")"
   ]
  },
  {
   "cell_type": "markdown",
   "metadata": {
    "id": "v7zKygJLefhW"
   },
   "source": [
    "# **3: Train a Seq2Seq Model**\n",
    "In this section, you will be working on implementing a simple Seq2Seq model. You will first implement an Encoder and a Decoder, and then join them together with a Seq2Seq architecture. You will need to complete the code in *Decoder.py*, *Encoder.py*, and *Seq2Seq.py* under *seq2seq* folder. Please refer to the instructions in those files."
   ]
  },
  {
   "cell_type": "markdown",
   "metadata": {
    "id": "oUL7qUZKefhW"
   },
   "source": [
    "## **3.1: Implement the Encoder**\n",
    "In this section you will be implementing an RNN/LSTM based encoder to model German texts. Please refer to the instructions in *seq2seq/Encoder.py*. Run the following block to check your implementation."
   ]
  },
  {
   "cell_type": "code",
   "execution_count": null,
   "metadata": {
    "id": "FWXBz_FaefhX"
   },
   "outputs": [],
   "source": [
    "from models.seq2seq.Encoder import Encoder\n",
    "\n",
    "set_seed_nb()\n",
    "i, n, h = 10, 4, 2\n",
    "\n",
    "encoder = Encoder(i, n, h, h)\n",
    "x_array = np.random.rand(5,2) * 10\n",
    "x = torch.LongTensor(x_array)\n",
    "out, hidden = encoder.forward(x)\n",
    "\n",
    "expected_out, expected_hidden = unit_test_values('encoder')\n",
    "\n",
    "if out is not None:\n",
    "    print('Close to out: ', expected_out.allclose(out, atol=1e-3))\n",
    "    print('Close to hidden: ', expected_hidden.allclose(hidden, atol=1e-3))\n",
    "else:\n",
    "    print(\"NOT IMPLEMENTED\")"
   ]
  },
  {
   "cell_type": "markdown",
   "metadata": {
    "id": "o7XOnp0LefhX"
   },
   "source": [
    "## **3.2: Implement the Decoder**\n",
    "In this section you will be implementing an RNN/LSTM based decoder to model English texts. Please refer to the instructions in *seq2seq/Decoder.py*. Run the following block to check your implementation."
   ]
  },
  {
   "cell_type": "code",
   "execution_count": null,
   "metadata": {
    "id": "zipyUgVJefhY"
   },
   "outputs": [],
   "source": [
    "from models.seq2seq.Decoder import Decoder\n",
    "\n",
    "set_seed_nb()\n",
    "i, n, h =  10, 2, 2\n",
    "decoder = Decoder(h, n, n, i)\n",
    "x_array = np.random.rand(5, 2) * 10\n",
    "x = torch.LongTensor(x_array[:,0]).unsqueeze(1) #decoder input is the first sequence\n",
    "enc_out, enc_hidden = unit_test_values('encoder')\n",
    "out, hidden = decoder.forward(x,enc_hidden)\n",
    "\n",
    "expected_out, expected_hidden = unit_test_values('decoder')\n",
    "if out is not None:\n",
    "    print('Close to out: ', expected_out.allclose(out, atol=1e-3))\n",
    "    print('Close to hidden: ', expected_hidden.allclose(hidden, atol=1e-3))\n",
    "else:\n",
    "    print(\"NOT IMPLEMENTED\")"
   ]
  },
  {
   "cell_type": "markdown",
   "metadata": {
    "id": "PUBBkZTVFsA5"
   },
   "source": [
    "We will integrate a basic form of attention to assess its influence on our model's performance. Specifically, we will incorporate cosine similarity as the attention mechanism in decoder.py, as illustrated in the accompanying diagram. Additionally, for our straightforward attention mechanism, we employ a distinct context vector."
   ]
  },
  {
   "cell_type": "code",
   "execution_count": null,
   "metadata": {
    "id": "ZjcV53W4pB9i",
    "pycharm": {
     "name": "#%%\n"
    }
   },
   "outputs": [],
   "source": [
    "Image (filename=\"imgs/attention.drawio.png\", retina=True)"
   ]
  },
  {
   "cell_type": "code",
   "execution_count": null,
   "metadata": {
    "id": "9CEsEbQDFsA6"
   },
   "outputs": [],
   "source": [
    "#test computing attention probabilities\n",
    "set_seed_nb()\n",
    "hidden, enc_out, expected_attention_prob = unit_test_values('attention')\n",
    "attention_prob=decoder.compute_attention(hidden, enc_out)\n",
    "\n",
    "if attention_prob is not None:\n",
    "  print('Close to attention_prob: ', expected_attention_prob.allclose(attention_prob, atol=1e-3))\n",
    "else:\n",
    "    print(\"NOT IMPLEMENTED\")"
   ]
  },
  {
   "cell_type": "markdown",
   "metadata": {
    "id": "fBXsJFeTefhZ"
   },
   "source": [
    "## **3.3: Implement the Seq2Seq**\n",
    "In this section you will be implementing the Seq2Seq model that utilizes the Encoder and Decoder you implemented. Please refer to the instructions in *seq2seq/Seq2Seq.py*. Run the following block to check your implementation."
   ]
  },
  {
   "cell_type": "code",
   "execution_count": null,
   "metadata": {
    "id": "-zZekFRXefhZ"
   },
   "outputs": [],
   "source": [
    "from models.seq2seq.Seq2Seq import Seq2Seq\n",
    "\n",
    "set_seed_nb()\n",
    "embedding_size = 32\n",
    "hidden_size = 32\n",
    "input_size = 8\n",
    "output_size = 8\n",
    "batch, seq = 2, 2\n",
    "\n",
    "encoder = Encoder(input_size, embedding_size, hidden_size, hidden_size)\n",
    "decoder = Decoder(embedding_size, hidden_size, hidden_size, output_size)\n",
    "\n",
    "seq2seq = Seq2Seq(encoder, decoder, 'cpu')\n",
    "x_array = np.random.rand(batch, seq) * 10\n",
    "x = torch.LongTensor(x_array)\n",
    "out = seq2seq.forward(x)\n",
    "\n",
    "if out is not None:\n",
    "    expected_out = unit_test_values('seq2seq')\n",
    "    print('Close to out: ', expected_out.allclose(out, atol=1e-3))\n",
    "else:\n",
    "    print(\"NOT IMPLEMENTED\")\n",
    "\n",
    "# now lets test seq2seq with attention\n",
    "decoder = Decoder(embedding_size, hidden_size, hidden_size, output_size, attention=True)\n",
    "seq2seq = Seq2Seq(encoder, decoder, 'cpu')\n",
    "out_attention = seq2seq.forward(x)\n",
    "\n",
    "if out_attention is not None:\n",
    "    expected_out = unit_test_values('seq2seq_attention')\n",
    "    print('Close to out_attention: ', expected_out.allclose(out_attention, atol=1e-3))\n",
    "else:\n",
    "    print(\"SEQ2SEQ ATTENTION NOT IMPLEMENTED\")\n"
   ]
  },
  {
   "cell_type": "markdown",
   "metadata": {
    "id": "XYB7O3D1efha"
   },
   "source": [
    "## **3.4: Train your Seq2Seq model**\n",
    "Now it's time to combine what we have and train a Seq2Seq translator. We provided you with some training code and you can simply run them to see how your translator works. If you implemented everything correctly, you should see some meaningful translation in the output. You can modify the hyperparameters to improve the results. You can also tune the BATCH_SIZE in section 1.2."
   ]
  },
  {
   "cell_type": "code",
   "execution_count": null,
   "metadata": {
    "id": "1yuG_96Wefha"
   },
   "outputs": [],
   "source": [
    "# Hyperparameters. You are welcome to modify these\n",
    "encoder_emb_size = 128\n",
    "encoder_hidden_size = 128\n",
    "encoder_dropout = 0.2\n",
    "\n",
    "decoder_emb_size = 128\n",
    "decoder_hidden_size = 128\n",
    "decoder_dropout = 0.2\n",
    "\n",
    "learning_rate = 1e-3\n",
    "model_type = \"RNN\"\n",
    "\n",
    "EPOCHS = 20\n",
    "\n",
    "#input size and output size\n",
    "input_size = len(de_vocab)\n",
    "output_size = len(en_vocab)"
   ]
  },
  {
   "cell_type": "code",
   "execution_count": null,
   "metadata": {
    "id": "Qg2a3Xgjefha"
   },
   "outputs": [],
   "source": [
    "# Declare models, optimizer, and loss function\n",
    "set_seed_nb()\n",
    "encoder = Encoder(input_size, encoder_emb_size, encoder_hidden_size, decoder_hidden_size, dropout = encoder_dropout, model_type = model_type)\n",
    "decoder = Decoder(decoder_emb_size, encoder_hidden_size, encoder_hidden_size, output_size, dropout = decoder_dropout, model_type = model_type, attention=False)\n",
    "seq2seq_model = Seq2Seq(encoder, decoder, device)\n",
    "\n",
    "optimizer = optim.Adam(seq2seq_model.parameters(), lr = learning_rate)\n",
    "scheduler = torch.optim.lr_scheduler.ReduceLROnPlateau(optimizer)\n",
    "criterion = nn.CrossEntropyLoss(ignore_index=PAD_IDX)"
   ]
  },
  {
   "cell_type": "code",
   "execution_count": null,
   "metadata": {
    "id": "vQyPYCX6ShY_"
   },
   "outputs": [],
   "source": [
    "def train_and_plot (model, optimizer, scheduler, criterion, filename):\n",
    "  train_perplexity_history = []\n",
    "  valid_perplexity_history = []\n",
    "\n",
    "  for epoch_idx in range(EPOCHS):\n",
    "      print(\"-----------------------------------\")\n",
    "      print(\"Epoch %d\" % (epoch_idx+1))\n",
    "      print(\"-----------------------------------\")\n",
    "\n",
    "      train_loss, avg_train_loss = train(model, train_loader, optimizer, criterion, device=device)\n",
    "      scheduler.step(train_loss)\n",
    "\n",
    "      val_loss, avg_val_loss = evaluate(model, valid_loader, criterion, device=device)\n",
    "\n",
    "      train_perplexity_history.append(np.exp(avg_train_loss))\n",
    "      valid_perplexity_history.append(np.exp(avg_val_loss))\n",
    "\n",
    "      print(\"Training Loss: %.4f. Validation Loss: %.4f. \" % (avg_train_loss, avg_val_loss))\n",
    "      print(\"Training Perplexity: %.4f. Validation Perplexity: %.4f. \" % (np.exp(avg_train_loss), np.exp(avg_val_loss)))\n",
    "\n",
    "  plot_curves(train_perplexity_history, valid_perplexity_history, filename)"
   ]
  },
  {
   "cell_type": "code",
   "execution_count": null,
   "metadata": {
    "id": "iRbZ9ygLefhc"
   },
   "outputs": [],
   "source": [
    "import time\n",
    "start_time = time.time()\n",
    "filename='seq2seq_model'\n",
    "train_and_plot(seq2seq_model, optimizer, scheduler, criterion, filename)\n",
    "end_time = time.time()\n",
    "print(\"Time taken:\", (end_time - start_time)/60)"
   ]
  },
  {
   "cell_type": "markdown",
   "metadata": {
    "id": "_VzSCxdPefhd"
   },
   "source": [
    "# **4: Train a Transformer**\n",
    "\n",
    "We will be implementing a one-layer Transformer **encoder** which, similar to an RNN, can encode a sequence of inputs and produce a final output of possibility of tokens in target language. This is the architecture:"
   ]
  },
  {
   "cell_type": "code",
   "execution_count": null,
   "metadata": {
    "id": "Oh9-f1YRefhd"
   },
   "outputs": [],
   "source": [
    "Image(filename=\"imgs/encoder.png\")"
   ]
  },
  {
   "cell_type": "markdown",
   "metadata": {
    "id": "yFxaE855efhe"
   },
   "source": [
    "You can refer to the [original paper](https://arxiv.org/pdf/1706.03762.pdf) for more details."
   ]
  },
  {
   "cell_type": "markdown",
   "metadata": {
    "id": "qVs0KDP0efhe"
   },
   "source": [
    "## The Corpus of Linguistic Acceptability (CoLA)\n",
    "\n",
    "The Corpus of Linguistic Acceptability ([CoLA](https://nyu-mll.github.io/CoLA/)) in its full form consists of 10657 sentences from 23 linguistics publications, expertly annotated for acceptability (grammaticality) by their original authors. Native English speakers consistently report a sharp contrast in acceptability between pairs of sentences.\n",
    "Some examples include:\n",
    "\n",
    "`What did Betsy paint a picture of?` (Correct)\n",
    "\n",
    "`What was a picture of painted by Betsy?` (Incorrect)\n",
    "\n",
    "You can read more info about the dataset [here](https://arxiv.org/pdf/1805.12471.pdf). This is a binary classification task (predict 1 for correct grammar and 0 otherwise).\n",
    "\n",
    "We will be using this dataset as a sanity checker for the forward pass of the Transformer architecture discussed in class. The general intuitive notion is that we will _encode_ the sequence of tokens in the sentence, and then predict a binary output based on the final state that is the output of the model."
   ]
  },
  {
   "cell_type": "markdown",
   "metadata": {
    "id": "z-S4wWKRefhe"
   },
   "source": [
    "## Load the preprocessed data\n",
    "\n",
    "We've appended a \"SOS\" token to the beginning of each sequence, which can be used to make predictions. The benefit of appending this token to the beginning of the sequence is that we can extract it quite easily .\n",
    "\n",
    "We've additionally already constructed a vocabulary and converted all of the strings of tokens into integers which can be used for vocabulary lookup for you. Feel free to explore the data here."
   ]
  },
  {
   "cell_type": "code",
   "execution_count": null,
   "metadata": {
    "id": "1eZXnK7eefhe"
   },
   "outputs": [],
   "source": [
    "train_inxs = np.load('./data/train_inxs.npy')\n",
    "val_inxs = np.load('./data/val_inxs.npy')\n",
    "train_labels = np.load('./data/train_labels.npy')\n",
    "val_labels = np.load('./data/val_labels.npy')\n",
    "\n",
    "# load dictionary\n",
    "word_to_ix = {}\n",
    "with open(\"./data/word_to_ix.csv\", \"r\", encoding='utf-8') as f:\n",
    "    reader = csv.reader(f)\n",
    "    for line in reader:\n",
    "        word_to_ix[line[0]] = line[1]\n",
    "print(\"Vocabulary Size:\", len(word_to_ix))\n",
    "\n",
    "print(train_inxs.shape) # 7000 training instances, of (maximum/padded) length 43 words.\n",
    "print(val_inxs.shape) # 1551 validation instances, of (maximum/padded) length 43 words.\n",
    "print(train_labels.shape)\n",
    "print(val_labels.shape)\n",
    "\n",
    "d1 = torch.load('./data/d1.pt')\n",
    "d2 = torch.load('./data/d2.pt')\n",
    "d3 = torch.load('./data/d3.pt')\n",
    "d4 = torch.load('./data/d4.pt')"
   ]
  },
  {
   "cell_type": "markdown",
   "metadata": {
    "id": "YUUUtdmbefhf"
   },
   "source": [
    "Instead of using numpy for this model, we will be using Pytorch to implement the forward pass. You will not need to implement the backward pass for the various layers in this assigment.\n",
    "\n",
    "The file `models/Transformer.py` contains the model class and methods for each layer. This is where you will write your implementations."
   ]
  },
  {
   "cell_type": "markdown",
   "metadata": {
    "id": "N49WZFwdefhf"
   },
   "source": [
    "## **4.1: Embeddings**\n",
    "\n",
    "We will format our input embeddings similarly to how they are constructed in [BERT (source of figure)](https://arxiv.org/pdf/1810.04805.pdf). Recall from lecture that unlike a RNN, a Transformer does not include any positional information about the order in which the words in the sentence occur. Because of this, we need to append a positional encoding token at each position. (We will ignore the segment embeddings and [SEP] token here, since we are only encoding one sentence at a time). We have already appended the [SOS] token for you in the previous step.\n",
    "\n",
    "\n"
   ]
  },
  {
   "cell_type": "code",
   "execution_count": null,
   "metadata": {
    "id": "jBE-urJ6efhf"
   },
   "outputs": [],
   "source": [
    "Image(filename=\"imgs/embedding.png\")"
   ]
  },
  {
   "cell_type": "markdown",
   "metadata": {
    "id": "XsNweNb6efhf"
   },
   "source": [
    "Your first task is to implement the embedding lookup, including the addition of positional encodings. Open the file `Transformer.py` and complete all code parts for `Deliverable 1`."
   ]
  },
  {
   "cell_type": "code",
   "execution_count": null,
   "metadata": {
    "id": "HoelwPQSefhg"
   },
   "outputs": [],
   "source": [
    "from models.Transformer import TransformerTranslator\n",
    "inputs = train_inxs[0:2]\n",
    "inputs = torch.LongTensor(inputs)\n",
    "\n",
    "model = TransformerTranslator(input_size=len(word_to_ix), output_size=2, device=device, hidden_dim=128, num_heads=2, dim_feedforward=2048, dim_k=96, dim_v=96, dim_q=96, max_length=train_inxs.shape[1])\n",
    "\n",
    "embeds = model.embed(inputs)\n",
    "\n",
    "try:\n",
    "    print(\"Difference:\", torch.sum(torch.pairwise_distance(embeds, d1)).item()) # should be very small (<0.01)\n",
    "except:\n",
    "    print(\"NOT IMPLEMENTED\")"
   ]
  },
  {
   "cell_type": "markdown",
   "metadata": {
    "id": "CPrD-eJoefhg"
   },
   "source": [
    "## **4.2: Multi-head Self-Attention**\n",
    "\n",
    "Attention can be computed in matrix-form using the following formula:"
   ]
  },
  {
   "cell_type": "code",
   "execution_count": null,
   "metadata": {
    "id": "2R955b8Hefhg"
   },
   "outputs": [],
   "source": [
    "Image(filename=\"imgs/attn.png\")"
   ]
  },
  {
   "cell_type": "markdown",
   "metadata": {
    "id": "pN2AolSLefhg"
   },
   "source": [
    "We want to have multiple self-attention operations, computed in parallel. Each of these is called a *head*. We concatenate the heads and multiply them with the matrix `attention_head_projection` to produce the output of this layer.\n",
    "\n",
    "After every multi-head self-attention and feedforward layer, there is a residual connection + layer normalization. Make sure to implement this, using the following formula:\n",
    "\n",
    "\n"
   ]
  },
  {
   "cell_type": "code",
   "execution_count": null,
   "metadata": {
    "id": "eWCXx14cefhh"
   },
   "outputs": [],
   "source": [
    "Image(filename=\"imgs/layer_norm.png\")"
   ]
  },
  {
   "cell_type": "markdown",
   "metadata": {
    "id": "aIuT253Iefhh"
   },
   "source": [
    "Open the file `models/transformer.py` and implement the `multihead_attention` function.\n",
    "We have already initialized all of the layers you will need in the constructor."
   ]
  },
  {
   "cell_type": "code",
   "execution_count": null,
   "metadata": {
    "id": "QX4cYmZ3efhh"
   },
   "outputs": [],
   "source": [
    "hidden_states = model.multi_head_attention(embeds)\n",
    "\n",
    "try:\n",
    "    print(\"Difference:\", torch.sum(torch.pairwise_distance(hidden_states, d2)).item()) # should be very small (<0.01)\n",
    "except:\n",
    "    print(\"NOT IMPLEMENTED\")"
   ]
  },
  {
   "cell_type": "markdown",
   "metadata": {
    "id": "aS0afPPDefhh"
   },
   "source": [
    "## **4.3: Element-Wise Feed-forward Layer**\n",
    "\n",
    "Open the file `models/transformer.py` and complete code for `Deliverable 3`: the element-wise feed-forward layer consisting of two linear transformers with a ReLU layer in between.\n",
    "\n",
    "\n"
   ]
  },
  {
   "cell_type": "code",
   "execution_count": null,
   "metadata": {
    "id": "7__n-8puefhi"
   },
   "outputs": [],
   "source": [
    "Image(filename=\"imgs/ffn.png\")"
   ]
  },
  {
   "cell_type": "code",
   "execution_count": null,
   "metadata": {
    "id": "f4hxfoMaefhi"
   },
   "outputs": [],
   "source": [
    "outputs = model.feedforward_layer(hidden_states)\n",
    "\n",
    "try:\n",
    "    print(\"Difference:\", torch.sum(torch.pairwise_distance(outputs, d3)).item()) # should be very small (<0.01)\n",
    "except:\n",
    "    print(\"NOT IMPLEMENTED\")"
   ]
  },
  {
   "cell_type": "markdown",
   "metadata": {
    "id": "-oU3skwOefhi"
   },
   "source": [
    "## **4.4: Final Layer**\n",
    "\n",
    "Open the file `models/transformer.py` and complete code for `Deliverable 4`, to produce scores for all tokens in target language."
   ]
  },
  {
   "cell_type": "code",
   "execution_count": null,
   "metadata": {
    "id": "D3De-L1Yefhi"
   },
   "outputs": [],
   "source": [
    "scores = model.final_layer(outputs)\n",
    "\n",
    "try:\n",
    "    print(\"Difference:\", torch.sum(torch.pairwise_distance(scores, d4)).item()) # should be very small (<3e-4)\n",
    "except:\n",
    "    print(\"NOT IMPLEMENTED\")"
   ]
  },
  {
   "cell_type": "markdown",
   "metadata": {
    "id": "KqV-7w2wefhj"
   },
   "source": [
    "## **4.5: Putting it all together**\n",
    "\n",
    "Open the file `models/transformer.py` and complete the method `forward`, by putting together all of the methods you have developed in the right order to perform a full forward pass.\n"
   ]
  },
  {
   "cell_type": "code",
   "execution_count": null,
   "metadata": {
    "id": "h3OiFe6Defhj"
   },
   "outputs": [],
   "source": [
    "inputs = train_inxs[0:2]\n",
    "inputs = torch.LongTensor(inputs)\n",
    "inputs.to(device)\n",
    "outputs = model.forward(inputs)\n",
    "\n",
    "try:\n",
    "    print(\"Difference:\", torch.sum(torch.pairwise_distance(outputs, scores)).item()) # should be very small (<3e-4)\n",
    "except:\n",
    "    print(\"NOT IMPLEMENTED\")"
   ]
  },
  {
   "cell_type": "markdown",
   "metadata": {
    "id": "CoEvB0jcefhj"
   },
   "source": [
    "Great! We've just implemented a Transformer forward pass for translation. One of the big perks of using PyTorch is that with a simple training loop, we can rely on automatic differentation ([autograd](https://pytorch.org/tutorials/beginner/blitz/autograd_tutorial.html)) to do the work of the backward pass for us. This is not required for this assignment, but you can explore this on your own."
   ]
  },
  {
   "cell_type": "markdown",
   "metadata": {
    "id": "pr_Ehyqvefhk"
   },
   "source": [
    "## **4.6: Train the Transformer**\n",
    "Now you can start training the Transformer translator. We provided you with some training code and you can simply run them to see how your translator works. If you implemented everything correctly, you should see some meaningful translation in the output. Compare the results from the Seq2Seq model, which one is better? You can modify the hyperparameters to improve the results. You can also tune the BATCH_SIZE in section 1.2."
   ]
  },
  {
   "cell_type": "code",
   "execution_count": null,
   "metadata": {
    "id": "cHpZSsPQefhk"
   },
   "outputs": [],
   "source": [
    "# Hyperparameters\n",
    "learning_rate = 1e-3\n",
    "EPOCHS = 10\n",
    "\n",
    "# Model\n",
    "trans_model = TransformerTranslator(input_size, output_size, device, max_length = MAX_LEN).to(device)\n",
    "\n",
    "# optimizer = optim.Adam(model.parameters(), lr = learning_rate)\n",
    "optimizer = torch.optim.Adam(trans_model.parameters(), lr=learning_rate)\n",
    "scheduler = torch.optim.lr_scheduler.ReduceLROnPlateau(optimizer)\n",
    "criterion = nn.CrossEntropyLoss(ignore_index=PAD_IDX)"
   ]
  },
  {
   "cell_type": "code",
   "execution_count": null,
   "metadata": {
    "id": "biCi-lFHefhk"
   },
   "outputs": [],
   "source": [
    "import time\n",
    "start_time = time.time()\n",
    "filename='trans_model'\n",
    "train_and_plot(trans_model, optimizer, scheduler, criterion, filename)\n",
    "end_time = time.time()\n",
    "print(\"Time taken:\", (end_time - start_time)/60)"
   ]
  },
  {
   "cell_type": "markdown",
   "metadata": {
    "id": "UefIcouAziQl"
   },
   "source": [
    "## **4.7: Implement and train a full transformer (encoder/decoder)**\n",
    "<p align=\"center\"><strong>This section is Optional for Summer Session</strong></p>\n",
    "In the previous section, you implemented the encoder module of a transformer from scratch. In this section, you use pytorch built-in transformer module to build your translator model.\n",
    "you can start training the Transformer translator. We provided you with some training code and you can simply run them to see how your translator works. If you implemented everything correctly, you should see some meaningful translation in the output. Compare the results from the transformer (encoder only) model, which one is better? You can modify the hyperparameters to improve the results. You can also tune the BATCH_SIZE in section 1.2."
   ]
  },
  {
   "cell_type": "code",
   "execution_count": null,
   "metadata": {
    "id": "yUss0wbue8U5"
   },
   "outputs": [],
   "source": [
    "# @title\n",
    "from models.Transformer import FullTransformerTranslator\n",
    "# you will be implementing and testing the forward function here. During training, inaddition to inputs, targets are also passed to the forward function\n",
    "set_seed_nb()\n",
    "inputs = train_inxs[0:3]\n",
    "inputs[:,0]=0\n",
    "inputs = torch.LongTensor(inputs)\n",
    "inputs.to('cpu')\n",
    "# Model\n",
    "full_trans_model = FullTransformerTranslator(input_size=len(word_to_ix), output_size=5, device='cpu', hidden_dim=128, num_heads=2, dim_feedforward=2048, max_length=train_inxs.shape[1]).to('cpu')\n",
    "\n",
    "tgt_array = np.random.rand(inputs.shape[0], inputs.shape[1])\n",
    "targets = torch.LongTensor(tgt_array)\n",
    "targets.to('cpu')\n",
    "outputs = full_trans_model.forward(inputs,targets)\n",
    "\n",
    "if outputs is not None:\n",
    "    expected_out = unit_test_values('full_trans_fwd')\n",
    "    print('Close to outputs: ', expected_out.allclose(outputs, atol=1e-3))\n",
    "else:\n",
    "    print(\"NOT IMPLEMENTED\")\n"
   ]
  },
  {
   "cell_type": "code",
   "execution_count": null,
   "metadata": {
    "id": "SmdFF3d7vqaQ"
   },
   "outputs": [],
   "source": [
    "# you will be implementing the generate_translation function which is called at the time of interence to translate the inputs. This is done in an autoregressive manner very similar to how you implemented the seq2seq model earlier\n",
    "inputs = train_inxs[3:6]\n",
    "inputs[:,0]=0\n",
    "inputs = torch.LongTensor(inputs)\n",
    "inputs.to('cpu')\n",
    "full_trans_model = FullTransformerTranslator(input_size=len(word_to_ix), output_size=5, device='cpu', hidden_dim=128, num_heads=2, dim_feedforward=2048, max_length=train_inxs.shape[1]).to('cpu')\n",
    "outputs = full_trans_model.generate_translation(inputs)\n",
    "\n",
    "if outputs is not None:\n",
    "    expected_out = unit_test_values('full_trans_translate')\n",
    "    print('Close to outputs: ', expected_out.allclose(outputs, atol=1e-3))\n",
    "else:\n",
    "    print(\"NOT IMPLEMENTED\")\n"
   ]
  },
  {
   "cell_type": "code",
   "execution_count": null,
   "metadata": {
    "id": "KFAvt50Lmus2"
   },
   "outputs": [],
   "source": [
    "# Hyperparameters\n",
    "learning_rate = 1e-3\n",
    "EPOCHS = 10\n",
    "\n",
    "# Model\n",
    "full_trans_model = FullTransformerTranslator(input_size, output_size, device, max_length = MAX_LEN, ignore_index=PAD_IDX).to(device)\n",
    "\n",
    "optimizer = torch.optim.Adam(full_trans_model.parameters(), lr=learning_rate)\n",
    "scheduler = torch.optim.lr_scheduler.ReduceLROnPlateau(optimizer)\n",
    "criterion = nn.CrossEntropyLoss(ignore_index=PAD_IDX)"
   ]
  },
  {
   "cell_type": "code",
   "execution_count": null,
   "metadata": {
    "id": "FVpvojgtnH_Y"
   },
   "outputs": [],
   "source": [
    "import time\n",
    "start_time = time.time()\n",
    "filename='full_trans_model'\n",
    "train_and_plot(full_trans_model, optimizer, scheduler, criterion, filename)\n",
    "end_time = time.time()\n",
    "print(\"Time taken:\", (end_time - start_time)/60)"
   ]
  },
  {
   "cell_type": "markdown",
   "metadata": {
    "id": "RcS_FVV7efhk"
   },
   "source": [
    "# **Translations**\n",
    "\n",
    "Run the code below to see some of your translations. Modify to your liking."
   ]
  },
  {
   "cell_type": "code",
   "execution_count": null,
   "metadata": {
    "id": "7mfI9LW1efhl"
   },
   "outputs": [],
   "source": [
    "def translate(model, dataloader):\n",
    "    model.eval()\n",
    "    with torch.no_grad():\n",
    "        # Get the progress bar\n",
    "        progress_bar = tqdm(dataloader, ascii = True)\n",
    "        for batch_idx, data in enumerate(progress_bar):\n",
    "            source = data[0].transpose(1,0).to(device)\n",
    "            target = data[1].transpose(1,0).to(device)\n",
    "            if model.__class__.__name__ == 'FullTransformerTranslator':\n",
    "                translation = model.generate_translation(source)\n",
    "            else:\n",
    "                translation = model(source)\n",
    "            return target, translation"
   ]
  },
  {
   "cell_type": "code",
   "execution_count": null,
   "metadata": {
    "id": "RcpQ-rjQefhl"
   },
   "outputs": [],
   "source": [
    "# Select Transformer or Seq2Seq model\n",
    "#model = trans_model\n",
    "#model = seq2seq_model\n",
    "model = full_trans_model"
   ]
  },
  {
   "cell_type": "code",
   "execution_count": null,
   "metadata": {
    "id": "DHj549UWefhl"
   },
   "outputs": [],
   "source": [
    "#Set model equal to trans_model or seq2seq_model\n",
    "target, translation = translate(model, test_loader)"
   ]
  },
  {
   "cell_type": "code",
   "execution_count": null,
   "metadata": {
    "id": "p23lJVB-nOrj"
   },
   "outputs": [],
   "source": [
    "# Get the expected English translations\n",
    "raw = np.array([\n",
    "    list(map(lambda x: en_vocab.get_itos()[int(x)] if int(x) in en_vocab.get_itos() else '<unk>', target[i]))\n",
    "    for i in range(target.shape[0])\n",
    "])"
   ]
  },
  {
   "cell_type": "code",
   "execution_count": null,
   "metadata": {
    "id": "D8hY5r55efhm"
   },
   "outputs": [],
   "source": [
    "raw[0:9]"
   ]
  },
  {
   "cell_type": "code",
   "execution_count": null,
   "metadata": {
    "id": "5DnVfl6wefhm"
   },
   "outputs": [],
   "source": [
    "#Get the predicted English translations for comparison\n",
    "token_trans = np.argmax(translation.cpu().numpy(), axis = 2)\n",
    "translated = np.array([list(map(lambda x: en_vocab.get_itos()[x], token_trans[i])) for i in range(token_trans.shape[0])])"
   ]
  },
  {
   "cell_type": "code",
   "execution_count": null,
   "metadata": {
    "id": "Z5A8Et32efhm"
   },
   "outputs": [],
   "source": [
    "translated[0:9]"
   ]
  },
  {
   "cell_type": "code",
   "execution_count": null,
   "metadata": {},
   "outputs": [],
   "source": []
  },
  {
   "cell_type": "code",
   "execution_count": null,
   "metadata": {},
   "outputs": [],
   "source": []
  },
  {
   "cell_type": "code",
   "execution_count": null,
   "metadata": {},
   "outputs": [],
   "source": []
  },
  {
   "cell_type": "code",
   "execution_count": null,
   "metadata": {},
   "outputs": [],
   "source": []
  }
 ],
 "metadata": {
  "accelerator": "GPU",
  "colab": {
   "collapsed_sections": [
    "dfJtyp5Kefgy",
    "tmSlhfxwefg9",
    "O66UKOZnefg_",
    "FDmu06h_efhI",
    "l6yEbmAxefhR",
    "cTkd6oseefhS",
    "zZwBWMZzefhU",
    "v7zKygJLefhW",
    "oUL7qUZKefhW",
    "o7XOnp0LefhX",
    "fBXsJFeTefhZ",
    "XYB7O3D1efha",
    "_VzSCxdPefhd",
    "qVs0KDP0efhe",
    "z-S4wWKRefhe",
    "N49WZFwdefhf",
    "CPrD-eJoefhg",
    "aS0afPPDefhh",
    "-oU3skwOefhi",
    "KqV-7w2wefhj",
    "pr_Ehyqvefhk",
    "RcS_FVV7efhk"
   ],
   "gpuType": "T4",
   "machine_shape": "hm",
   "provenance": []
  },
  "kernelspec": {
   "display_name": "cs7643-a3-nlp",
   "language": "python",
   "name": "python3"
  },
  "language_info": {
   "codemirror_mode": {
    "name": "ipython",
    "version": 3
   },
   "file_extension": ".py",
   "mimetype": "text/x-python",
   "name": "python",
   "nbconvert_exporter": "python",
   "pygments_lexer": "ipython3",
   "version": "3.10.0"
  }
 },
 "nbformat": 4,
 "nbformat_minor": 4
}
